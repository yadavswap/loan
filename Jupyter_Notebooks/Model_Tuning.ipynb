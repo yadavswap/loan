{
 "cells": [
  {
   "cell_type": "code",
   "execution_count": 1,
   "metadata": {},
   "outputs": [],
   "source": [
    "import pandas as pd\n",
    "import numpy as np\n",
    "import matplotlib.pyplot as plt\n",
    "import seaborn as sns\n",
    "import os\n",
    "import pickle\n",
    "\n",
    "from sklearn.metrics import classification_report, roc_curve, precision_recall_curve\n",
    "from sklearn.model_selection import GridSearchCV\n",
    "from imblearn.pipeline import Pipeline\n",
    "\n",
    "import xgboost as xgb\n",
    "from sklearn.metrics import classification_report, roc_curve, precision_recall_curve,roc_auc_score, f1_score, confusion_matrix\n",
    "from imblearn.over_sampling import SMOTE\n",
    "\n",
    "\n",
    "%matplotlib inline"
   ]
  },
  {
   "cell_type": "code",
   "execution_count": 2,
   "metadata": {},
   "outputs": [
    {
     "name": "stderr",
     "output_type": "stream",
     "text": [
      "/ichec/home/users/ikunal95/.local/lib/python3.8/site-packages/numpy/lib/arraysetops.py:580: FutureWarning: elementwise comparison failed; returning scalar instead, but in the future will perform elementwise comparison\n",
      "  mask |= (ar1 == a)\n"
     ]
    }
   ],
   "source": [
    "#get directory\n",
    "df_train_path = os.path.join('data','df_train_scaled.csv')\n",
    "df_test_path = os.path.join('data','df_test_scaled.csv')\n",
    "\n",
    "#download in chunks\n",
    "df_train = pd.read_csv(df_train_path,compression='zip', index_col=0)\n",
    "df_test = pd.read_csv(df_test_path,compression='zip', index_col=0)"
   ]
  },
  {
   "cell_type": "code",
   "execution_count": 3,
   "metadata": {},
   "outputs": [
    {
     "data": {
      "text/plain": [
       "((1038769, 21), (194208, 21))"
      ]
     },
     "execution_count": 3,
     "metadata": {},
     "output_type": "execute_result"
    }
   ],
   "source": [
    "df_train.shape,df_test.shape"
   ]
  },
  {
   "cell_type": "code",
   "execution_count": 4,
   "metadata": {},
   "outputs": [
    {
     "data": {
      "text/html": [
       "<div>\n",
       "<style scoped>\n",
       "    .dataframe tbody tr th:only-of-type {\n",
       "        vertical-align: middle;\n",
       "    }\n",
       "\n",
       "    .dataframe tbody tr th {\n",
       "        vertical-align: top;\n",
       "    }\n",
       "\n",
       "    .dataframe thead th {\n",
       "        text-align: right;\n",
       "    }\n",
       "</style>\n",
       "<table border=\"1\" class=\"dataframe\">\n",
       "  <thead>\n",
       "    <tr style=\"text-align: right;\">\n",
       "      <th></th>\n",
       "      <th>term</th>\n",
       "      <th>int_rate</th>\n",
       "      <th>grade</th>\n",
       "      <th>sub_grade</th>\n",
       "      <th>emp_length</th>\n",
       "      <th>home_ownership</th>\n",
       "      <th>annual_inc</th>\n",
       "      <th>verification_status</th>\n",
       "      <th>loan_status</th>\n",
       "      <th>purpose</th>\n",
       "      <th>...</th>\n",
       "      <th>pub_rec</th>\n",
       "      <th>revol_bal</th>\n",
       "      <th>revol_util</th>\n",
       "      <th>mort_acc</th>\n",
       "      <th>pub_rec_bankruptcies</th>\n",
       "      <th>credit_hist</th>\n",
       "      <th>credit_line_ratio</th>\n",
       "      <th>balance_annual_inc</th>\n",
       "      <th>fico_avg_score</th>\n",
       "      <th>inst_amnt_ratio</th>\n",
       "    </tr>\n",
       "  </thead>\n",
       "  <tbody>\n",
       "    <tr>\n",
       "      <th>0</th>\n",
       "      <td>-0.610627</td>\n",
       "      <td>0.172191</td>\n",
       "      <td>-0.165071</td>\n",
       "      <td>-0.326720</td>\n",
       "      <td>1.125480</td>\n",
       "      <td>0.447761</td>\n",
       "      <td>-0.425631</td>\n",
       "      <td>-1.304639</td>\n",
       "      <td>0</td>\n",
       "      <td>-0.280449</td>\n",
       "      <td>...</td>\n",
       "      <td>0</td>\n",
       "      <td>-0.544925</td>\n",
       "      <td>-1.031547</td>\n",
       "      <td>-0.312756</td>\n",
       "      <td>0</td>\n",
       "      <td>-0.506174</td>\n",
       "      <td>0.167560</td>\n",
       "      <td>-1.295442</td>\n",
       "      <td>-0.664064</td>\n",
       "      <td>0.758198</td>\n",
       "    </tr>\n",
       "    <tr>\n",
       "      <th>67</th>\n",
       "      <td>1.637546</td>\n",
       "      <td>1.587155</td>\n",
       "      <td>-1.679589</td>\n",
       "      <td>-1.849610</td>\n",
       "      <td>-1.094865</td>\n",
       "      <td>2.003926</td>\n",
       "      <td>0.925331</td>\n",
       "      <td>-1.304639</td>\n",
       "      <td>1</td>\n",
       "      <td>-1.129757</td>\n",
       "      <td>...</td>\n",
       "      <td>0</td>\n",
       "      <td>0.049260</td>\n",
       "      <td>1.652931</td>\n",
       "      <td>0.182998</td>\n",
       "      <td>0</td>\n",
       "      <td>1.812689</td>\n",
       "      <td>-0.286453</td>\n",
       "      <td>0.005808</td>\n",
       "      <td>-1.141442</td>\n",
       "      <td>-0.946936</td>\n",
       "    </tr>\n",
       "    <tr>\n",
       "      <th>109</th>\n",
       "      <td>-0.610627</td>\n",
       "      <td>0.172191</td>\n",
       "      <td>-0.165071</td>\n",
       "      <td>-0.326720</td>\n",
       "      <td>-1.094865</td>\n",
       "      <td>-1.108404</td>\n",
       "      <td>0.376406</td>\n",
       "      <td>1.110298</td>\n",
       "      <td>0</td>\n",
       "      <td>-0.280449</td>\n",
       "      <td>...</td>\n",
       "      <td>0</td>\n",
       "      <td>-0.041656</td>\n",
       "      <td>1.167090</td>\n",
       "      <td>-0.808510</td>\n",
       "      <td>0</td>\n",
       "      <td>-0.404217</td>\n",
       "      <td>-0.657446</td>\n",
       "      <td>-1.125453</td>\n",
       "      <td>-0.504937</td>\n",
       "      <td>0.757704</td>\n",
       "    </tr>\n",
       "    <tr>\n",
       "      <th>166</th>\n",
       "      <td>-0.610627</td>\n",
       "      <td>0.052647</td>\n",
       "      <td>-0.165071</td>\n",
       "      <td>-0.174431</td>\n",
       "      <td>-1.372409</td>\n",
       "      <td>-1.108404</td>\n",
       "      <td>-1.962332</td>\n",
       "      <td>1.110298</td>\n",
       "      <td>0</td>\n",
       "      <td>-0.280449</td>\n",
       "      <td>...</td>\n",
       "      <td>0</td>\n",
       "      <td>-0.489803</td>\n",
       "      <td>-0.990374</td>\n",
       "      <td>-0.808510</td>\n",
       "      <td>0</td>\n",
       "      <td>-1.029029</td>\n",
       "      <td>0.458129</td>\n",
       "      <td>-0.588348</td>\n",
       "      <td>0.449820</td>\n",
       "      <td>0.696767</td>\n",
       "    </tr>\n",
       "    <tr>\n",
       "      <th>240</th>\n",
       "      <td>-0.610627</td>\n",
       "      <td>0.359114</td>\n",
       "      <td>-0.165071</td>\n",
       "      <td>-0.479009</td>\n",
       "      <td>-1.094865</td>\n",
       "      <td>-1.108404</td>\n",
       "      <td>-0.040973</td>\n",
       "      <td>1.110298</td>\n",
       "      <td>0</td>\n",
       "      <td>-0.705103</td>\n",
       "      <td>...</td>\n",
       "      <td>0</td>\n",
       "      <td>-0.102644</td>\n",
       "      <td>0.117179</td>\n",
       "      <td>-0.808510</td>\n",
       "      <td>0</td>\n",
       "      <td>0.016681</td>\n",
       "      <td>-0.199473</td>\n",
       "      <td>-1.212870</td>\n",
       "      <td>-0.823190</td>\n",
       "      <td>0.854260</td>\n",
       "    </tr>\n",
       "  </tbody>\n",
       "</table>\n",
       "<p>5 rows × 21 columns</p>\n",
       "</div>"
      ],
      "text/plain": [
       "         term  int_rate     grade  sub_grade  emp_length  home_ownership  \\\n",
       "0   -0.610627  0.172191 -0.165071  -0.326720    1.125480        0.447761   \n",
       "67   1.637546  1.587155 -1.679589  -1.849610   -1.094865        2.003926   \n",
       "109 -0.610627  0.172191 -0.165071  -0.326720   -1.094865       -1.108404   \n",
       "166 -0.610627  0.052647 -0.165071  -0.174431   -1.372409       -1.108404   \n",
       "240 -0.610627  0.359114 -0.165071  -0.479009   -1.094865       -1.108404   \n",
       "\n",
       "     annual_inc  verification_status  loan_status   purpose  ...  pub_rec  \\\n",
       "0     -0.425631            -1.304639            0 -0.280449  ...        0   \n",
       "67     0.925331            -1.304639            1 -1.129757  ...        0   \n",
       "109    0.376406             1.110298            0 -0.280449  ...        0   \n",
       "166   -1.962332             1.110298            0 -0.280449  ...        0   \n",
       "240   -0.040973             1.110298            0 -0.705103  ...        0   \n",
       "\n",
       "     revol_bal  revol_util  mort_acc  pub_rec_bankruptcies  credit_hist  \\\n",
       "0    -0.544925   -1.031547 -0.312756                     0    -0.506174   \n",
       "67    0.049260    1.652931  0.182998                     0     1.812689   \n",
       "109  -0.041656    1.167090 -0.808510                     0    -0.404217   \n",
       "166  -0.489803   -0.990374 -0.808510                     0    -1.029029   \n",
       "240  -0.102644    0.117179 -0.808510                     0     0.016681   \n",
       "\n",
       "     credit_line_ratio  balance_annual_inc  fico_avg_score  inst_amnt_ratio  \n",
       "0             0.167560           -1.295442       -0.664064         0.758198  \n",
       "67           -0.286453            0.005808       -1.141442        -0.946936  \n",
       "109          -0.657446           -1.125453       -0.504937         0.757704  \n",
       "166           0.458129           -0.588348        0.449820         0.696767  \n",
       "240          -0.199473           -1.212870       -0.823190         0.854260  \n",
       "\n",
       "[5 rows x 21 columns]"
      ]
     },
     "execution_count": 4,
     "metadata": {},
     "output_type": "execute_result"
    }
   ],
   "source": [
    "df_train.head()"
   ]
  },
  {
   "cell_type": "code",
   "execution_count": 5,
   "metadata": {},
   "outputs": [],
   "source": [
    "#target variable\n",
    "target_col = 'loan_status'\n",
    "\n",
    "#training variables\n",
    "X_train = df_train.drop(columns=[target_col])\n",
    "y_train = df_train[target_col]\n",
    "\n",
    "#test variables\n",
    "X_test = df_test.drop(columns=[target_col])\n",
    "y_test = df_test[target_col]\n",
    "\n",
    "drop_columns=['pub_rec','pub_rec_bankruptcies','emp_length','purpose','revol_bal','grade','int_rate']\n",
    "X_train=X_train.drop(columns=drop_columns)\n",
    "X_test =X_test.drop(columns=drop_columns)"
   ]
  },
  {
   "cell_type": "code",
   "execution_count": 6,
   "metadata": {},
   "outputs": [
    {
     "data": {
      "text/plain": [
       "((1038769, 13), (194208, 13))"
      ]
     },
     "execution_count": 6,
     "metadata": {},
     "output_type": "execute_result"
    }
   ],
   "source": [
    "X_train.shape,X_test.shape"
   ]
  },
  {
   "cell_type": "code",
   "execution_count": 7,
   "metadata": {},
   "outputs": [
    {
     "name": "stdout",
     "output_type": "stream",
     "text": [
      "Estimate: 4.020\n",
      "Fitting 3 folds for each of 18 candidates, totalling 54 fits\n",
      "[Parallel(n_jobs=-1)]: Using backend LokyBackend with 40 concurrent workers.\n",
      "[Parallel(n_jobs=-1)]: Done   1 tasks      | elapsed:  2.5min\n",
      "[Parallel(n_jobs=-1)]: Done   3 out of  54 | elapsed:  2.6min remaining: 43.6min\n",
      "[Parallel(n_jobs=-1)]: Done   5 out of  54 | elapsed:  2.6min remaining: 25.5min\n",
      "[Parallel(n_jobs=-1)]: Done   7 out of  54 | elapsed:  2.6min remaining: 17.5min\n",
      "[Parallel(n_jobs=-1)]: Done   9 out of  54 | elapsed:  2.7min remaining: 13.3min\n",
      "[Parallel(n_jobs=-1)]: Done  11 out of  54 | elapsed:  2.9min remaining: 11.2min\n",
      "[Parallel(n_jobs=-1)]: Done  13 out of  54 | elapsed:  3.0min remaining:  9.4min\n",
      "[Parallel(n_jobs=-1)]: Done  15 out of  54 | elapsed:  3.0min remaining:  7.8min\n",
      "[Parallel(n_jobs=-1)]: Done  17 out of  54 | elapsed:  5.2min remaining: 11.2min\n",
      "[Parallel(n_jobs=-1)]: Done  19 out of  54 | elapsed:  5.2min remaining:  9.7min\n",
      "[Parallel(n_jobs=-1)]: Done  21 out of  54 | elapsed:  5.3min remaining:  8.3min\n",
      "[Parallel(n_jobs=-1)]: Done  23 out of  54 | elapsed:  5.4min remaining:  7.2min\n",
      "[Parallel(n_jobs=-1)]: Done  25 out of  54 | elapsed:  5.5min remaining:  6.4min\n",
      "[Parallel(n_jobs=-1)]: Done  27 out of  54 | elapsed:  5.6min remaining:  5.6min\n",
      "[Parallel(n_jobs=-1)]: Done  29 out of  54 | elapsed:  6.0min remaining:  5.2min\n",
      "[Parallel(n_jobs=-1)]: Done  31 out of  54 | elapsed:  6.1min remaining:  4.6min\n",
      "[Parallel(n_jobs=-1)]: Done  33 out of  54 | elapsed:  7.9min remaining:  5.1min\n",
      "[Parallel(n_jobs=-1)]: Done  35 out of  54 | elapsed:  8.1min remaining:  4.4min\n",
      "[Parallel(n_jobs=-1)]: Done  37 out of  54 | elapsed:  9.8min remaining:  4.5min\n",
      "[Parallel(n_jobs=-1)]: Done  39 out of  54 | elapsed: 10.0min remaining:  3.8min\n",
      "[Parallel(n_jobs=-1)]: Done  41 out of  54 | elapsed: 10.2min remaining:  3.2min\n",
      "[Parallel(n_jobs=-1)]: Done  43 out of  54 | elapsed: 10.6min remaining:  2.7min\n",
      "[Parallel(n_jobs=-1)]: Done  45 out of  54 | elapsed: 10.7min remaining:  2.1min\n",
      "[Parallel(n_jobs=-1)]: Done  47 out of  54 | elapsed: 11.8min remaining:  1.8min\n",
      "[Parallel(n_jobs=-1)]: Done  49 out of  54 | elapsed: 12.7min remaining:  1.3min\n",
      "[Parallel(n_jobs=-1)]: Done  51 out of  54 | elapsed: 12.8min remaining:   45.1s\n",
      "[Parallel(n_jobs=-1)]: Done  54 out of  54 | elapsed: 13.4min finished\n"
     ]
    },
    {
     "data": {
      "text/plain": [
       "GridSearchCV(cv=3, error_score=nan,\n",
       "             estimator=Pipeline(memory=None,\n",
       "                                steps=[('xgb',\n",
       "                                        XGBClassifier(base_score=None,\n",
       "                                                      booster=None,\n",
       "                                                      colsample_bylevel=None,\n",
       "                                                      colsample_bynode=None,\n",
       "                                                      colsample_bytree=None,\n",
       "                                                      gamma=None, gpu_id=None,\n",
       "                                                      importance_type='gain',\n",
       "                                                      interaction_constraints=None,\n",
       "                                                      learning_rate=None,\n",
       "                                                      max_delta_step=None,\n",
       "                                                      max_depth=None,\n",
       "                                                      min_child_weight=None,\n",
       "                                                      missing=na...\n",
       "                                                      reg_lambda=None,\n",
       "                                                      scale_pos_weight=4.019856764541009,\n",
       "                                                      subsample=None,\n",
       "                                                      tree_method=None,\n",
       "                                                      validate_parameters=None,\n",
       "                                                      verbosity=None))],\n",
       "                                verbose=False),\n",
       "             iid='deprecated', n_jobs=-1,\n",
       "             param_grid={'xgb__colsample_bytree': [0.9, 1.0],\n",
       "                         'xgb__eta': [0.05, 0.1, 0.3],\n",
       "                         'xgb__max_depth': [3, 6, 12]},\n",
       "             pre_dispatch='2*n_jobs', refit=True, return_train_score=False,\n",
       "             scoring='roc_auc', verbose=50)"
      ]
     },
     "execution_count": 7,
     "metadata": {},
     "output_type": "execute_result"
    }
   ],
   "source": [
    "from collections import Counter\n",
    "counter = Counter(y_train)\n",
    "# estimate scale_pos_weight value\n",
    "estimate = counter[0] / counter[1]\n",
    "print('Estimate: %.3f' % estimate)\n",
    "#define the param grid\n",
    "# Parameters of pipelines can be set using ‘__’ separated para\n",
    "clf_grid = {\n",
    "    'xgb__eta': [0.05, 0.1, 0.3],\n",
    "    'xgb__max_depth': [3, 6, 12],\n",
    "    'xgb__colsample_bytree': [0.9, 1.0],\n",
    "    }\n",
    "#define the pipeline\n",
    "model_pipe = Pipeline([\n",
    "    ('xgb', xgb.XGBClassifier(n_estimators=200,\n",
    "                              n_jobs=-1, scale_pos_weight=estimate))\n",
    "])\n",
    "#define the classifer\n",
    "clf = GridSearchCV(model_pipe,\n",
    "                   clf_grid,\n",
    "                   n_jobs=-1,\n",
    "                   cv=3, \n",
    "                   verbose=50, \n",
    "                   scoring='roc_auc')\n",
    "#fit to training data\n",
    "clf.fit(X_train, y_train)"
   ]
  },
  {
   "cell_type": "code",
   "execution_count": 8,
   "metadata": {},
   "outputs": [
    {
     "name": "stdout",
     "output_type": "stream",
     "text": [
      "Best model parameters: \n",
      "\n",
      "{'xgb__colsample_bytree': 0.9, 'xgb__eta': 0.05, 'xgb__max_depth': 6}\n",
      "Best model score: \n",
      "\n",
      "0.7169512241208537\n"
     ]
    }
   ],
   "source": [
    "print(\"Best model parameters: \\n\")\n",
    "print(clf.best_params_ )\n",
    "print(\"Best model score: \\n\")\n",
    "print(clf.best_score_)"
   ]
  },
  {
   "cell_type": "code",
   "execution_count": 9,
   "metadata": {},
   "outputs": [
    {
     "data": {
      "text/plain": [
       "array([[90304, 50226],\n",
       "       [18424, 35254]])"
      ]
     },
     "execution_count": 9,
     "metadata": {},
     "output_type": "execute_result"
    }
   ],
   "source": [
    "y_pred = clf.predict(X_test)\n",
    "confusion_matrix(y_test, y_pred)"
   ]
  },
  {
   "cell_type": "code",
   "execution_count": 10,
   "metadata": {},
   "outputs": [],
   "source": [
    "fpr, tpr, thresholds = roc_curve(y_test,\n",
    "                                 clf.predict_proba(X_test)[:,1],\n",
    "                                 pos_label=1)"
   ]
  },
  {
   "cell_type": "code",
   "execution_count": 11,
   "metadata": {},
   "outputs": [
    {
     "data": {
      "image/png": "[encoded data removed]",
      "text/plain": [
       "<Figure size 432x288 with 1 Axes>"
      ]
     },
     "metadata": {
      "needs_background": "light"
     },
     "output_type": "display_data"
    },
    {
     "name": "stdout",
     "output_type": "stream",
     "text": [
      "AUC: 0.705\n"
     ]
    }
   ],
   "source": [
    "plt.plot(fpr, tpr, label='XGB')\n",
    "plt.plot([0,1], [0,1], label='No Discrimination', linestyle='-', dashes=(5, 5))\n",
    "plt.show()\n",
    "\n",
    "# calculate AUC\n",
    "auc = roc_auc_score(y_test, clf.predict_proba(X_test)[:,1])\n",
    "print('AUC: %.3f' % auc)"
   ]
  },
  {
   "cell_type": "code",
   "execution_count": 12,
   "metadata": {},
   "outputs": [
    {
     "name": "stdout",
     "output_type": "stream",
     "text": [
      "f1_xgb (binary): 0.5066758648442777\n",
      "\n",
      "              precision    recall  f1-score   support\n",
      "\n",
      "           0       0.83      0.64      0.72    140530\n",
      "           1       0.41      0.66      0.51     53678\n",
      "\n",
      "    accuracy                           0.65    194208\n",
      "   macro avg       0.62      0.65      0.62    194208\n",
      "weighted avg       0.71      0.65      0.66    194208\n",
      "\n"
     ]
    }
   ],
   "source": [
    "f1_xgb = f1_score(y_test, y_pred)\n",
    "\n",
    "print(\"f1_xgb (binary): {}\\n\".format(f1_xgb))\n",
    "print(classification_report(y_test,y_pred))"
   ]
  },
  {
   "cell_type": "code",
   "execution_count": 14,
   "metadata": {},
   "outputs": [
    {
     "name": "stdout",
     "output_type": "stream",
     "text": [
      "Saving model at: models/xgb_cv_final.pkl\n"
     ]
    }
   ],
   "source": [
    "#define location to save trained model\n",
    "save_model_dir = os.path.join('models/xgb_cv_final.pkl')\n",
    "print(\"Saving model at: {}\".format(save_model_dir))\n",
    "\n",
    "#save the model\n",
    "with open(save_model_dir, 'wb') as handle:\n",
    "    pickle.dump(clf,\n",
    "                handle,\n",
    "                protocol=3)"
   ]
  }
 ],
 "metadata": {
  "kernelspec": {
   "display_name": "Python 3",
   "language": "python",
   "name": "python3"
  },
  "language_info": {
   "codemirror_mode": {
    "name": "ipython",
    "version": 3
   },
   "file_extension": ".py",
   "mimetype": "text/x-python",
   "name": "python",
   "nbconvert_exporter": "python",
   "pygments_lexer": "ipython3",
   "version": "3.8.3"
  }
 },
 "nbformat": 4,
 "nbformat_minor": 4
}
