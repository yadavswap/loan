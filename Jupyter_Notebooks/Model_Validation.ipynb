{
 "cells": [
  {
   "cell_type": "code",
   "execution_count": 1,
   "metadata": {},
   "outputs": [],
   "source": [
    "import numpy as np\n",
    "import pandas as pd\n",
    "import matplotlib.pyplot as plt\n",
    "import os\n",
    "import copy\n",
    "from collections import OrderedDict\n",
    "import argparse\n",
    "import json\n",
    "import pickle\n",
    "from datetime import datetime\n",
    "from sklearn.metrics import classification_report, roc_curve, precision_recall_curve,roc_auc_score, f1_score, confusion_matrix\n",
    "from sklearn.model_selection import GridSearchCV\n",
    "from sklearn.neighbors import KNeighborsRegressor\n",
    "import xgboost as xgb\n",
    "import shap\n",
    "from imblearn.over_sampling import SMOTE\n",
    "%matplotlib inline"
   ]
  },
  {
   "cell_type": "code",
   "execution_count": 2,
   "metadata": {},
   "outputs": [],
   "source": [
    "#get directory\n",
    "df_train_path = os.path.join('data','df_train_scaled.csv')\n",
    "df_test_path = os.path.join('data','df_test_scaled.csv')\n"
   ]
  },
  {
   "cell_type": "code",
   "execution_count": 3,
   "metadata": {},
   "outputs": [
    {
     "name": "stderr",
     "output_type": "stream",
     "text": [
      "/ichec/home/users/ikunal95/.local/lib/python3.8/site-packages/numpy/lib/arraysetops.py:580: FutureWarning: elementwise comparison failed; returning scalar instead, but in the future will perform elementwise comparison\n",
      "  mask |= (ar1 == a)\n"
     ]
    },
    {
     "data": {
      "text/html": [
       "<div>\n",
       "<style scoped>\n",
       "    .dataframe tbody tr th:only-of-type {\n",
       "        vertical-align: middle;\n",
       "    }\n",
       "\n",
       "    .dataframe tbody tr th {\n",
       "        vertical-align: top;\n",
       "    }\n",
       "\n",
       "    .dataframe thead th {\n",
       "        text-align: right;\n",
       "    }\n",
       "</style>\n",
       "<table border=\"1\" class=\"dataframe\">\n",
       "  <thead>\n",
       "    <tr style=\"text-align: right;\">\n",
       "      <th></th>\n",
       "      <th>term</th>\n",
       "      <th>int_rate</th>\n",
       "      <th>grade</th>\n",
       "      <th>sub_grade</th>\n",
       "      <th>emp_length</th>\n",
       "      <th>home_ownership</th>\n",
       "      <th>annual_inc</th>\n",
       "      <th>verification_status</th>\n",
       "      <th>loan_status</th>\n",
       "      <th>purpose</th>\n",
       "      <th>...</th>\n",
       "      <th>pub_rec</th>\n",
       "      <th>revol_bal</th>\n",
       "      <th>revol_util</th>\n",
       "      <th>mort_acc</th>\n",
       "      <th>pub_rec_bankruptcies</th>\n",
       "      <th>credit_hist</th>\n",
       "      <th>credit_line_ratio</th>\n",
       "      <th>balance_annual_inc</th>\n",
       "      <th>fico_avg_score</th>\n",
       "      <th>inst_amnt_ratio</th>\n",
       "    </tr>\n",
       "  </thead>\n",
       "  <tbody>\n",
       "    <tr>\n",
       "      <th>0</th>\n",
       "      <td>-0.610627</td>\n",
       "      <td>0.172191</td>\n",
       "      <td>-0.165071</td>\n",
       "      <td>-0.326720</td>\n",
       "      <td>1.125480</td>\n",
       "      <td>0.447761</td>\n",
       "      <td>-0.425631</td>\n",
       "      <td>-1.304639</td>\n",
       "      <td>0</td>\n",
       "      <td>-0.280449</td>\n",
       "      <td>...</td>\n",
       "      <td>0</td>\n",
       "      <td>-0.544925</td>\n",
       "      <td>-1.031547</td>\n",
       "      <td>-0.312756</td>\n",
       "      <td>0</td>\n",
       "      <td>-0.506174</td>\n",
       "      <td>0.167560</td>\n",
       "      <td>-1.295442</td>\n",
       "      <td>-0.664064</td>\n",
       "      <td>0.758198</td>\n",
       "    </tr>\n",
       "    <tr>\n",
       "      <th>67</th>\n",
       "      <td>1.637546</td>\n",
       "      <td>1.587155</td>\n",
       "      <td>-1.679589</td>\n",
       "      <td>-1.849610</td>\n",
       "      <td>-1.094865</td>\n",
       "      <td>2.003926</td>\n",
       "      <td>0.925331</td>\n",
       "      <td>-1.304639</td>\n",
       "      <td>1</td>\n",
       "      <td>-1.129757</td>\n",
       "      <td>...</td>\n",
       "      <td>0</td>\n",
       "      <td>0.049260</td>\n",
       "      <td>1.652931</td>\n",
       "      <td>0.182998</td>\n",
       "      <td>0</td>\n",
       "      <td>1.812689</td>\n",
       "      <td>-0.286453</td>\n",
       "      <td>0.005808</td>\n",
       "      <td>-1.141442</td>\n",
       "      <td>-0.946936</td>\n",
       "    </tr>\n",
       "    <tr>\n",
       "      <th>109</th>\n",
       "      <td>-0.610627</td>\n",
       "      <td>0.172191</td>\n",
       "      <td>-0.165071</td>\n",
       "      <td>-0.326720</td>\n",
       "      <td>-1.094865</td>\n",
       "      <td>-1.108404</td>\n",
       "      <td>0.376406</td>\n",
       "      <td>1.110298</td>\n",
       "      <td>0</td>\n",
       "      <td>-0.280449</td>\n",
       "      <td>...</td>\n",
       "      <td>0</td>\n",
       "      <td>-0.041656</td>\n",
       "      <td>1.167090</td>\n",
       "      <td>-0.808510</td>\n",
       "      <td>0</td>\n",
       "      <td>-0.404217</td>\n",
       "      <td>-0.657446</td>\n",
       "      <td>-1.125453</td>\n",
       "      <td>-0.504937</td>\n",
       "      <td>0.757704</td>\n",
       "    </tr>\n",
       "    <tr>\n",
       "      <th>166</th>\n",
       "      <td>-0.610627</td>\n",
       "      <td>0.052647</td>\n",
       "      <td>-0.165071</td>\n",
       "      <td>-0.174431</td>\n",
       "      <td>-1.372409</td>\n",
       "      <td>-1.108404</td>\n",
       "      <td>-1.962332</td>\n",
       "      <td>1.110298</td>\n",
       "      <td>0</td>\n",
       "      <td>-0.280449</td>\n",
       "      <td>...</td>\n",
       "      <td>0</td>\n",
       "      <td>-0.489803</td>\n",
       "      <td>-0.990374</td>\n",
       "      <td>-0.808510</td>\n",
       "      <td>0</td>\n",
       "      <td>-1.029029</td>\n",
       "      <td>0.458129</td>\n",
       "      <td>-0.588348</td>\n",
       "      <td>0.449820</td>\n",
       "      <td>0.696767</td>\n",
       "    </tr>\n",
       "    <tr>\n",
       "      <th>240</th>\n",
       "      <td>-0.610627</td>\n",
       "      <td>0.359114</td>\n",
       "      <td>-0.165071</td>\n",
       "      <td>-0.479009</td>\n",
       "      <td>-1.094865</td>\n",
       "      <td>-1.108404</td>\n",
       "      <td>-0.040973</td>\n",
       "      <td>1.110298</td>\n",
       "      <td>0</td>\n",
       "      <td>-0.705103</td>\n",
       "      <td>...</td>\n",
       "      <td>0</td>\n",
       "      <td>-0.102644</td>\n",
       "      <td>0.117179</td>\n",
       "      <td>-0.808510</td>\n",
       "      <td>0</td>\n",
       "      <td>0.016681</td>\n",
       "      <td>-0.199473</td>\n",
       "      <td>-1.212870</td>\n",
       "      <td>-0.823190</td>\n",
       "      <td>0.854260</td>\n",
       "    </tr>\n",
       "  </tbody>\n",
       "</table>\n",
       "<p>5 rows × 21 columns</p>\n",
       "</div>"
      ],
      "text/plain": [
       "         term  int_rate     grade  sub_grade  emp_length  home_ownership  \\\n",
       "0   -0.610627  0.172191 -0.165071  -0.326720    1.125480        0.447761   \n",
       "67   1.637546  1.587155 -1.679589  -1.849610   -1.094865        2.003926   \n",
       "109 -0.610627  0.172191 -0.165071  -0.326720   -1.094865       -1.108404   \n",
       "166 -0.610627  0.052647 -0.165071  -0.174431   -1.372409       -1.108404   \n",
       "240 -0.610627  0.359114 -0.165071  -0.479009   -1.094865       -1.108404   \n",
       "\n",
       "     annual_inc  verification_status  loan_status   purpose  ...  pub_rec  \\\n",
       "0     -0.425631            -1.304639            0 -0.280449  ...        0   \n",
       "67     0.925331            -1.304639            1 -1.129757  ...        0   \n",
       "109    0.376406             1.110298            0 -0.280449  ...        0   \n",
       "166   -1.962332             1.110298            0 -0.280449  ...        0   \n",
       "240   -0.040973             1.110298            0 -0.705103  ...        0   \n",
       "\n",
       "     revol_bal  revol_util  mort_acc  pub_rec_bankruptcies  credit_hist  \\\n",
       "0    -0.544925   -1.031547 -0.312756                     0    -0.506174   \n",
       "67    0.049260    1.652931  0.182998                     0     1.812689   \n",
       "109  -0.041656    1.167090 -0.808510                     0    -0.404217   \n",
       "166  -0.489803   -0.990374 -0.808510                     0    -1.029029   \n",
       "240  -0.102644    0.117179 -0.808510                     0     0.016681   \n",
       "\n",
       "     credit_line_ratio  balance_annual_inc  fico_avg_score  inst_amnt_ratio  \n",
       "0             0.167560           -1.295442       -0.664064         0.758198  \n",
       "67           -0.286453            0.005808       -1.141442        -0.946936  \n",
       "109          -0.657446           -1.125453       -0.504937         0.757704  \n",
       "166           0.458129           -0.588348        0.449820         0.696767  \n",
       "240          -0.199473           -1.212870       -0.823190         0.854260  \n",
       "\n",
       "[5 rows x 21 columns]"
      ]
     },
     "execution_count": 3,
     "metadata": {},
     "output_type": "execute_result"
    }
   ],
   "source": [
    "df_train = pd.read_csv(df_train_path, compression='zip',index_col=0)\n",
    "df_train.head()"
   ]
  },
  {
   "cell_type": "code",
   "execution_count": 4,
   "metadata": {},
   "outputs": [
    {
     "data": {
      "text/html": [
       "<div>\n",
       "<style scoped>\n",
       "    .dataframe tbody tr th:only-of-type {\n",
       "        vertical-align: middle;\n",
       "    }\n",
       "\n",
       "    .dataframe tbody tr th {\n",
       "        vertical-align: top;\n",
       "    }\n",
       "\n",
       "    .dataframe thead th {\n",
       "        text-align: right;\n",
       "    }\n",
       "</style>\n",
       "<table border=\"1\" class=\"dataframe\">\n",
       "  <thead>\n",
       "    <tr style=\"text-align: right;\">\n",
       "      <th></th>\n",
       "      <th>term</th>\n",
       "      <th>int_rate</th>\n",
       "      <th>grade</th>\n",
       "      <th>sub_grade</th>\n",
       "      <th>emp_length</th>\n",
       "      <th>home_ownership</th>\n",
       "      <th>annual_inc</th>\n",
       "      <th>verification_status</th>\n",
       "      <th>loan_status</th>\n",
       "      <th>purpose</th>\n",
       "      <th>...</th>\n",
       "      <th>pub_rec</th>\n",
       "      <th>revol_bal</th>\n",
       "      <th>revol_util</th>\n",
       "      <th>mort_acc</th>\n",
       "      <th>pub_rec_bankruptcies</th>\n",
       "      <th>credit_hist</th>\n",
       "      <th>credit_line_ratio</th>\n",
       "      <th>balance_annual_inc</th>\n",
       "      <th>fico_avg_score</th>\n",
       "      <th>inst_amnt_ratio</th>\n",
       "    </tr>\n",
       "  </thead>\n",
       "  <tbody>\n",
       "    <tr>\n",
       "      <th>0</th>\n",
       "      <td>-0.570976</td>\n",
       "      <td>-1.294606</td>\n",
       "      <td>1.356055</td>\n",
       "      <td>1.209613</td>\n",
       "      <td>0.855221</td>\n",
       "      <td>-0.986772</td>\n",
       "      <td>-0.544575</td>\n",
       "      <td>1.124050</td>\n",
       "      <td>0</td>\n",
       "      <td>1.508179</td>\n",
       "      <td>...</td>\n",
       "      <td>0</td>\n",
       "      <td>-0.840577</td>\n",
       "      <td>-2.343674</td>\n",
       "      <td>0.966999</td>\n",
       "      <td>0</td>\n",
       "      <td>0.607537</td>\n",
       "      <td>-1.476305</td>\n",
       "      <td>-1.426077</td>\n",
       "      <td>2.234328</td>\n",
       "      <td>-0.036477</td>\n",
       "    </tr>\n",
       "    <tr>\n",
       "      <th>78</th>\n",
       "      <td>-0.570976</td>\n",
       "      <td>-0.275277</td>\n",
       "      <td>0.592659</td>\n",
       "      <td>0.284735</td>\n",
       "      <td>1.131238</td>\n",
       "      <td>0.689685</td>\n",
       "      <td>-0.192022</td>\n",
       "      <td>-1.305284</td>\n",
       "      <td>0</td>\n",
       "      <td>2.829991</td>\n",
       "      <td>...</td>\n",
       "      <td>0</td>\n",
       "      <td>0.911808</td>\n",
       "      <td>0.468075</td>\n",
       "      <td>0.522267</td>\n",
       "      <td>0</td>\n",
       "      <td>0.561519</td>\n",
       "      <td>-0.285751</td>\n",
       "      <td>-0.499703</td>\n",
       "      <td>0.552829</td>\n",
       "      <td>0.483092</td>\n",
       "    </tr>\n",
       "    <tr>\n",
       "      <th>83</th>\n",
       "      <td>-0.570976</td>\n",
       "      <td>-0.835469</td>\n",
       "      <td>0.592659</td>\n",
       "      <td>0.901320</td>\n",
       "      <td>1.131238</td>\n",
       "      <td>0.689685</td>\n",
       "      <td>1.292035</td>\n",
       "      <td>1.124050</td>\n",
       "      <td>0</td>\n",
       "      <td>-0.254237</td>\n",
       "      <td>...</td>\n",
       "      <td>0</td>\n",
       "      <td>0.234027</td>\n",
       "      <td>-0.562625</td>\n",
       "      <td>0.966999</td>\n",
       "      <td>0</td>\n",
       "      <td>0.946541</td>\n",
       "      <td>0.340857</td>\n",
       "      <td>0.862879</td>\n",
       "      <td>0.889129</td>\n",
       "      <td>0.194849</td>\n",
       "    </tr>\n",
       "    <tr>\n",
       "      <th>123</th>\n",
       "      <td>-0.570976</td>\n",
       "      <td>2.336756</td>\n",
       "      <td>-1.697530</td>\n",
       "      <td>-1.565023</td>\n",
       "      <td>1.131238</td>\n",
       "      <td>-0.986772</td>\n",
       "      <td>0.766151</td>\n",
       "      <td>-1.305284</td>\n",
       "      <td>0</td>\n",
       "      <td>-0.254237</td>\n",
       "      <td>...</td>\n",
       "      <td>1</td>\n",
       "      <td>-0.663703</td>\n",
       "      <td>-0.356485</td>\n",
       "      <td>0.077535</td>\n",
       "      <td>1</td>\n",
       "      <td>0.315703</td>\n",
       "      <td>-1.382314</td>\n",
       "      <td>-1.716246</td>\n",
       "      <td>-0.960519</td>\n",
       "      <td>1.909040</td>\n",
       "    </tr>\n",
       "    <tr>\n",
       "      <th>144</th>\n",
       "      <td>1.751298</td>\n",
       "      <td>-0.275277</td>\n",
       "      <td>0.592659</td>\n",
       "      <td>0.284735</td>\n",
       "      <td>-0.524867</td>\n",
       "      <td>0.689685</td>\n",
       "      <td>-0.257746</td>\n",
       "      <td>-1.305284</td>\n",
       "      <td>1</td>\n",
       "      <td>0.626971</td>\n",
       "      <td>...</td>\n",
       "      <td>0</td>\n",
       "      <td>-0.562148</td>\n",
       "      <td>-1.547974</td>\n",
       "      <td>0.077535</td>\n",
       "      <td>0</td>\n",
       "      <td>-0.174013</td>\n",
       "      <td>0.340857</td>\n",
       "      <td>0.792449</td>\n",
       "      <td>2.234328</td>\n",
       "      <td>-2.141528</td>\n",
       "    </tr>\n",
       "  </tbody>\n",
       "</table>\n",
       "<p>5 rows × 21 columns</p>\n",
       "</div>"
      ],
      "text/plain": [
       "         term  int_rate     grade  sub_grade  emp_length  home_ownership  \\\n",
       "0   -0.570976 -1.294606  1.356055   1.209613    0.855221       -0.986772   \n",
       "78  -0.570976 -0.275277  0.592659   0.284735    1.131238        0.689685   \n",
       "83  -0.570976 -0.835469  0.592659   0.901320    1.131238        0.689685   \n",
       "123 -0.570976  2.336756 -1.697530  -1.565023    1.131238       -0.986772   \n",
       "144  1.751298 -0.275277  0.592659   0.284735   -0.524867        0.689685   \n",
       "\n",
       "     annual_inc  verification_status  loan_status   purpose  ...  pub_rec  \\\n",
       "0     -0.544575             1.124050            0  1.508179  ...        0   \n",
       "78    -0.192022            -1.305284            0  2.829991  ...        0   \n",
       "83     1.292035             1.124050            0 -0.254237  ...        0   \n",
       "123    0.766151            -1.305284            0 -0.254237  ...        1   \n",
       "144   -0.257746            -1.305284            1  0.626971  ...        0   \n",
       "\n",
       "     revol_bal  revol_util  mort_acc  pub_rec_bankruptcies  credit_hist  \\\n",
       "0    -0.840577   -2.343674  0.966999                     0     0.607537   \n",
       "78    0.911808    0.468075  0.522267                     0     0.561519   \n",
       "83    0.234027   -0.562625  0.966999                     0     0.946541   \n",
       "123  -0.663703   -0.356485  0.077535                     1     0.315703   \n",
       "144  -0.562148   -1.547974  0.077535                     0    -0.174013   \n",
       "\n",
       "     credit_line_ratio  balance_annual_inc  fico_avg_score  inst_amnt_ratio  \n",
       "0            -1.476305           -1.426077        2.234328        -0.036477  \n",
       "78           -0.285751           -0.499703        0.552829         0.483092  \n",
       "83            0.340857            0.862879        0.889129         0.194849  \n",
       "123          -1.382314           -1.716246       -0.960519         1.909040  \n",
       "144           0.340857            0.792449        2.234328        -2.141528  \n",
       "\n",
       "[5 rows x 21 columns]"
      ]
     },
     "execution_count": 4,
     "metadata": {},
     "output_type": "execute_result"
    }
   ],
   "source": [
    "df_test = pd.read_csv(df_test_path, compression='zip', index_col=0)\n",
    "df_test.head()"
   ]
  },
  {
   "cell_type": "code",
   "execution_count": 5,
   "metadata": {},
   "outputs": [
    {
     "data": {
      "text/html": [
       "<div>\n",
       "<style scoped>\n",
       "    .dataframe tbody tr th:only-of-type {\n",
       "        vertical-align: middle;\n",
       "    }\n",
       "\n",
       "    .dataframe tbody tr th {\n",
       "        vertical-align: top;\n",
       "    }\n",
       "\n",
       "    .dataframe thead th {\n",
       "        text-align: right;\n",
       "    }\n",
       "</style>\n",
       "<table border=\"1\" class=\"dataframe\">\n",
       "  <thead>\n",
       "    <tr style=\"text-align: right;\">\n",
       "      <th></th>\n",
       "      <th>sub_grade</th>\n",
       "      <th>score</th>\n",
       "      <th>value</th>\n",
       "    </tr>\n",
       "  </thead>\n",
       "  <tbody>\n",
       "    <tr>\n",
       "      <th>0</th>\n",
       "      <td>A1</td>\n",
       "      <td>789</td>\n",
       "      <td>34</td>\n",
       "    </tr>\n",
       "    <tr>\n",
       "      <th>1</th>\n",
       "      <td>A2</td>\n",
       "      <td>780</td>\n",
       "      <td>33</td>\n",
       "    </tr>\n",
       "    <tr>\n",
       "      <th>2</th>\n",
       "      <td>A3</td>\n",
       "      <td>769</td>\n",
       "      <td>32</td>\n",
       "    </tr>\n",
       "    <tr>\n",
       "      <th>3</th>\n",
       "      <td>A4</td>\n",
       "      <td>761</td>\n",
       "      <td>31</td>\n",
       "    </tr>\n",
       "    <tr>\n",
       "      <th>4</th>\n",
       "      <td>A5</td>\n",
       "      <td>741</td>\n",
       "      <td>30</td>\n",
       "    </tr>\n",
       "  </tbody>\n",
       "</table>\n",
       "</div>"
      ],
      "text/plain": [
       "  sub_grade  score   value\n",
       "0        A1     789     34\n",
       "1        A2     780     33\n",
       "2        A3     769     32\n",
       "3        A4     761     31\n",
       "4        A5     741     30"
      ]
     },
     "execution_count": 5,
     "metadata": {},
     "output_type": "execute_result"
    }
   ],
   "source": [
    "df_fico_grade = pd.read_csv('data/grade_to_fico.csv')\n",
    "df_fico_grade.head()"
   ]
  },
  {
   "cell_type": "code",
   "execution_count": 6,
   "metadata": {},
   "outputs": [
    {
     "data": {
      "image/png": "[encoded data removed]",
      "text/plain": [
       "<Figure size 720x360 with 1 Axes>"
      ]
     },
     "metadata": {
      "needs_background": "light"
     },
     "output_type": "display_data"
    }
   ],
   "source": [
    "plt.figure(figsize=(10,5))\n",
    "plt.plot(df_fico_grade['value'], df_fico_grade['score '], marker='x')\n",
    "plt.xticks(range(df_fico_grade.shape[0]) , df_fico_grade['sub_grade'][::-1], rotation='vertical')\n",
    "plt.xlabel('Sub Grade')\n",
    "plt.ylabel(\"FICO Score\")\n",
    "plt.title(\"FICO Versus Sub Grade Per SEC Filing\")\n",
    "plt.savefig(os.path.join('plots','fico_grade_line.png'))\n",
    "plt.show()"
   ]
  },
  {
   "cell_type": "code",
   "execution_count": 7,
   "metadata": {},
   "outputs": [
    {
     "data": {
      "text/plain": [
       "30.0"
      ]
     },
     "execution_count": 7,
     "metadata": {},
     "output_type": "execute_result"
    }
   ],
   "source": [
    "#instantiate regressor\n",
    "knn = KNeighborsRegressor(n_neighbors=1)\n",
    "#fit to data\n",
    "knn.fit(np.reshape(df_fico_grade['score '].values, (-1, 1)), \n",
    "        df_fico_grade['value'])\n",
    "#make sample prediction\n",
    "knn.predict(np.reshape([750], (1,-1)))[0]"
   ]
  },
  {
   "cell_type": "code",
   "execution_count": 8,
   "metadata": {},
   "outputs": [],
   "source": [
    "#save the model\n",
    "with open(os.path.join('models', 'knn_regression.pkl'), 'wb') as handle:\n",
    "    pickle.dump(knn,handle)"
   ]
  },
  {
   "cell_type": "code",
   "execution_count": 9,
   "metadata": {},
   "outputs": [
    {
     "data": {
      "text/html": [
       "<div>\n",
       "<style scoped>\n",
       "    .dataframe tbody tr th:only-of-type {\n",
       "        vertical-align: middle;\n",
       "    }\n",
       "\n",
       "    .dataframe tbody tr th {\n",
       "        vertical-align: top;\n",
       "    }\n",
       "\n",
       "    .dataframe thead th {\n",
       "        text-align: right;\n",
       "    }\n",
       "</style>\n",
       "<table border=\"1\" class=\"dataframe\">\n",
       "  <thead>\n",
       "    <tr style=\"text-align: right;\">\n",
       "      <th></th>\n",
       "      <th>grade_num</th>\n",
       "      <th>loan_grade</th>\n",
       "      <th>apr</th>\n",
       "      <th>36_mo</th>\n",
       "      <th>60_mo</th>\n",
       "    </tr>\n",
       "  </thead>\n",
       "  <tbody>\n",
       "    <tr>\n",
       "      <th>0</th>\n",
       "      <td>34</td>\n",
       "      <td>A1</td>\n",
       "      <td>6.03</td>\n",
       "      <td>6.78</td>\n",
       "      <td>7.30</td>\n",
       "    </tr>\n",
       "    <tr>\n",
       "      <th>1</th>\n",
       "      <td>33</td>\n",
       "      <td>A2</td>\n",
       "      <td>6.97</td>\n",
       "      <td>7.99</td>\n",
       "      <td>8.26</td>\n",
       "    </tr>\n",
       "    <tr>\n",
       "      <th>2</th>\n",
       "      <td>32</td>\n",
       "      <td>A3</td>\n",
       "      <td>7.62</td>\n",
       "      <td>8.99</td>\n",
       "      <td>8.91</td>\n",
       "    </tr>\n",
       "    <tr>\n",
       "      <th>3</th>\n",
       "      <td>31</td>\n",
       "      <td>A4</td>\n",
       "      <td>8.60</td>\n",
       "      <td>9.98</td>\n",
       "      <td>9.91</td>\n",
       "    </tr>\n",
       "    <tr>\n",
       "      <th>4</th>\n",
       "      <td>30</td>\n",
       "      <td>A5</td>\n",
       "      <td>9.25</td>\n",
       "      <td>10.99</td>\n",
       "      <td>10.56</td>\n",
       "    </tr>\n",
       "  </tbody>\n",
       "</table>\n",
       "</div>"
      ],
      "text/plain": [
       "   grade_num loan_grade   apr  36_mo  60_mo\n",
       "0         34         A1  6.03   6.78   7.30\n",
       "1         33         A2  6.97   7.99   8.26\n",
       "2         32         A3  7.62   8.99   8.91\n",
       "3         31         A4  8.60   9.98   9.91\n",
       "4         30         A5  9.25  10.99  10.56"
      ]
     },
     "execution_count": 9,
     "metadata": {},
     "output_type": "execute_result"
    }
   ],
   "source": [
    "df_fico_apr = pd.read_csv('data/grade_to_apr.csv')\n",
    "df_fico_apr.head()"
   ]
  },
  {
   "cell_type": "code",
   "execution_count": 10,
   "metadata": {},
   "outputs": [
    {
     "data": {
      "text/plain": [
       "4    10.99\n",
       "Name: 36_mo, dtype: float64"
      ]
     },
     "execution_count": 10,
     "metadata": {},
     "output_type": "execute_result"
    }
   ],
   "source": [
    "df_fico_apr[df_fico_apr['grade_num']==30]['36_mo']"
   ]
  },
  {
   "cell_type": "code",
   "execution_count": 11,
   "metadata": {},
   "outputs": [],
   "source": [
    "#target variable\n",
    "target_col = 'loan_status'\n",
    "\n",
    "#training variables\n",
    "X_train = df_train.drop(columns=[target_col])\n",
    "y_train = df_train[target_col]\n",
    "\n",
    "#test variables\n",
    "X_test = df_test.drop(columns=[target_col])\n",
    "y_test = df_test[target_col]\n",
    "\n",
    "drop_columns=['pub_rec','pub_rec_bankruptcies','emp_length','purpose','revol_bal','grade','int_rate']\n",
    "X_train=X_train.drop(columns=drop_columns)\n",
    "X_test =X_test.drop(columns=drop_columns)"
   ]
  },
  {
   "cell_type": "code",
   "execution_count": 12,
   "metadata": {},
   "outputs": [
    {
     "name": "stdout",
     "output_type": "stream",
     "text": [
      "Estimate: 4.020\n"
     ]
    },
    {
     "data": {
      "text/plain": [
       "array([[91648, 48882],\n",
       "       [19700, 33978]])"
      ]
     },
     "execution_count": 12,
     "metadata": {},
     "output_type": "execute_result"
    }
   ],
   "source": [
    "from collections import Counter\n",
    "counter = Counter(y_train)\n",
    "# estimate scale_pos_weight value\n",
    "estimate = counter[0] / counter[1]\n",
    "print('Estimate: %.3f' % estimate)\n",
    "clf = xgb.XGBClassifier(n_estimators=300,\n",
    "                            subsample=0.9,\n",
    "                            n_jobs=-1,\n",
    "                           scale_pos_weight=estimate)\n",
    "\n",
    "clf.fit(X_train, y_train)\n",
    "\n",
    "#make predictions\n",
    "y_pred = clf.predict(X_test)\n",
    "confusion_matrix(y_test, y_pred)"
   ]
  },
  {
   "cell_type": "code",
   "execution_count": 13,
   "metadata": {},
   "outputs": [],
   "source": [
    "fpr, tpr, thresholds = roc_curve(y_test,clf.predict_proba(X_test)[:,1],pos_label=1)"
   ]
  },
  {
   "cell_type": "code",
   "execution_count": 14,
   "metadata": {},
   "outputs": [],
   "source": [
    "precision, recall, thresholds = precision_recall_curve(y_test,\n",
    "                                                       clf.predict_proba(X_test)[:,1],\n",
    "                                                       pos_label=1)"
   ]
  },
  {
   "cell_type": "code",
   "execution_count": 15,
   "metadata": {},
   "outputs": [
    {
     "data": {
      "image/png": "[encoded data removed]",
      "text/plain": [
       "<Figure size 432x288 with 1 Axes>"
      ]
     },
     "metadata": {
      "needs_background": "light"
     },
     "output_type": "display_data"
    }
   ],
   "source": [
    "plt.plot(fpr, tpr, label='XGB')\n",
    "plt.plot([0,1], [0,1], label='No Discrimination', linestyle='-', dashes=(5, 5))\n",
    "plt.show()"
   ]
  },
  {
   "cell_type": "code",
   "execution_count": 16,
   "metadata": {},
   "outputs": [
    {
     "name": "stdout",
     "output_type": "stream",
     "text": [
      "xgb_auc: 0.6974718506889389\n"
     ]
    }
   ],
   "source": [
    "xgb_auc = roc_auc_score(y_test, clf.predict_proba(X_test)[:,1])\n",
    "print(\"xgb_auc: {}\".format(xgb_auc))"
   ]
  },
  {
   "cell_type": "code",
   "execution_count": 17,
   "metadata": {},
   "outputs": [
    {
     "name": "stdout",
     "output_type": "stream",
     "text": [
      "f1_xgb (binary): 0.497707597884838\n",
      "\n",
      "              precision    recall  f1-score   support\n",
      "\n",
      "           0       0.82      0.65      0.73    140530\n",
      "           1       0.41      0.63      0.50     53678\n",
      "\n",
      "    accuracy                           0.65    194208\n",
      "   macro avg       0.62      0.64      0.61    194208\n",
      "weighted avg       0.71      0.65      0.66    194208\n",
      "\n"
     ]
    }
   ],
   "source": [
    "f1_xgb = f1_score(y_test, y_pred)\n",
    "\n",
    "print(\"f1_xgb (binary): {}\\n\".format(f1_xgb))\n",
    "print(classification_report(y_test,y_pred))"
   ]
  },
  {
   "cell_type": "code",
   "execution_count": 18,
   "metadata": {},
   "outputs": [
    {
     "name": "stdout",
     "output_type": "stream",
     "text": [
      "Saving model at: models/xgb_cv_compact.pkl\n"
     ]
    }
   ],
   "source": [
    "#define location to save trained model\n",
    "save_model_dir = os.path.join('models','xgb_cv_compact.pkl')\n",
    "print(\"Saving model at: {}\".format(save_model_dir))\n",
    "\n",
    "#save the model\n",
    "with open(save_model_dir, 'wb') as handle:\n",
    "    pickle.dump(clf,\n",
    "                handle)"
   ]
  },
  {
   "cell_type": "code",
   "execution_count": 19,
   "metadata": {},
   "outputs": [],
   "source": [
    "#get input\n",
    "fico = 800\n",
    "loan_amnt = 1000\n",
    "term = '36 months'\n",
    "dti = 2\n",
    "home_ownership = 'rent'\n",
    "mort_acc = 5\n",
    "annual_inc = 50_000\n",
    "open_acc = 5\n",
    "employment = 'nurse'\n",
    "verification_status = 1\n",
    "revol_util = 60\n",
    "application_type = 0\n",
    "total_acc=1\n"
   ]
  },
  {
   "cell_type": "code",
   "execution_count": 20,
   "metadata": {},
   "outputs": [],
   "source": [
    "#calculate grade from FICO\n",
    "sub_grade = knn.predict(np.reshape([fico], (1,-1)))[0]\n",
    "#calculate grade\n",
    "grade = round(sub_grade/5) + 1\n",
    "#get interest rate\n",
    "apr_row = df_fico_apr[df_fico_apr['grade_num']==sub_grade]\n"
   ]
  },
  {
   "cell_type": "code",
   "execution_count": 21,
   "metadata": {},
   "outputs": [
    {
     "data": {
      "text/html": [
       "<div>\n",
       "<style scoped>\n",
       "    .dataframe tbody tr th:only-of-type {\n",
       "        vertical-align: middle;\n",
       "    }\n",
       "\n",
       "    .dataframe tbody tr th {\n",
       "        vertical-align: top;\n",
       "    }\n",
       "\n",
       "    .dataframe thead th {\n",
       "        text-align: right;\n",
       "    }\n",
       "</style>\n",
       "<table border=\"1\" class=\"dataframe\">\n",
       "  <thead>\n",
       "    <tr style=\"text-align: right;\">\n",
       "      <th></th>\n",
       "      <th>grade_num</th>\n",
       "      <th>loan_grade</th>\n",
       "      <th>apr</th>\n",
       "      <th>36_mo</th>\n",
       "      <th>60_mo</th>\n",
       "    </tr>\n",
       "  </thead>\n",
       "  <tbody>\n",
       "    <tr>\n",
       "      <th>0</th>\n",
       "      <td>34</td>\n",
       "      <td>A1</td>\n",
       "      <td>6.03</td>\n",
       "      <td>6.78</td>\n",
       "      <td>7.3</td>\n",
       "    </tr>\n",
       "  </tbody>\n",
       "</table>\n",
       "</div>"
      ],
      "text/plain": [
       "   grade_num loan_grade   apr  36_mo  60_mo\n",
       "0         34         A1  6.03   6.78    7.3"
      ]
     },
     "execution_count": 21,
     "metadata": {},
     "output_type": "execute_result"
    }
   ],
   "source": [
    "apr_row"
   ]
  },
  {
   "cell_type": "code",
   "execution_count": 22,
   "metadata": {},
   "outputs": [],
   "source": [
    "if term=='36 months':\n",
    "    int_rate = apr_row['36_mo'].values[0]\n",
    "    installment = float(loan_amnt)/36\n",
    "            \n",
    "else:\n",
    "    int_rate = apr_row['60_mo'].values[0]\n",
    "    installment = float(loan_amnt)/60"
   ]
  },
  {
   "cell_type": "code",
   "execution_count": 23,
   "metadata": {},
   "outputs": [],
   "source": [
    "term_to_int = {'36 months': 1, '60 months': 2}\n",
    "home_to_int = {'MORTGAGE': 4, 'RENT': 3, 'OWN': 5,'ANY': 2,'OTHER': 1, 'NONE':0 }"
   ]
  },
  {
   "cell_type": "code",
   "execution_count": 24,
   "metadata": {},
   "outputs": [
    {
     "data": {
      "text/plain": [
       "Index(['term', 'sub_grade', 'home_ownership', 'annual_inc',\n",
       "       'verification_status', 'dti', 'revol_util', 'mort_acc', 'credit_hist',\n",
       "       'credit_line_ratio', 'balance_annual_inc', 'fico_avg_score',\n",
       "       'inst_amnt_ratio'],\n",
       "      dtype='object')"
      ]
     },
     "execution_count": 24,
     "metadata": {},
     "output_type": "execute_result"
    }
   ],
   "source": [
    "X_train.columns"
   ]
  },
  {
   "cell_type": "code",
   "execution_count": 25,
   "metadata": {},
   "outputs": [],
   "source": [
    "\n",
    "feature_list=['term','sub_grade','home_ownership', 'annual_inc', 'verification_status',\n",
    "       'dti','revol_util', 'mort_acc','credit_hist', 'credit_line_ratio',\n",
    "       'balance_annual_inc', 'fico_avg_score', 'inst_amnt_ratio']\n"
   ]
  },
  {
   "cell_type": "code",
   "execution_count": 26,
   "metadata": {},
   "outputs": [],
   "source": [
    "temp = pd.DataFrame(index=[1])\n",
    "temp['term']=term_to_int[term]\n",
    "temp['sub_grade']=sub_grade\n",
    "temp['home_ownership']=home_to_int[home_ownership.upper()]\n",
    "temp['annual_inc']=np.log(annual_inc)\n",
    "temp['verification_status']=verification_status\n",
    "temp['dti']=dti\n",
    "temp['revol_util']=revol_util\n",
    "temp['mort_acc'] = mort_acc\n",
    "temp['credit_hist']=20\n",
    "temp['credit_line_ratio']=open_acc/total_acc\n",
    "temp['balance_annual_inc']=loan_amnt/annual_inc\n",
    "temp['fico_avg_score'] = fico\n",
    "temp['inst_amnt_ratio']=installment/loan_amnt"
   ]
  },
  {
   "cell_type": "code",
   "execution_count": 27,
   "metadata": {},
   "outputs": [
    {
     "data": {
      "text/html": [
       "<div>\n",
       "<style scoped>\n",
       "    .dataframe tbody tr th:only-of-type {\n",
       "        vertical-align: middle;\n",
       "    }\n",
       "\n",
       "    .dataframe tbody tr th {\n",
       "        vertical-align: top;\n",
       "    }\n",
       "\n",
       "    .dataframe thead th {\n",
       "        text-align: right;\n",
       "    }\n",
       "</style>\n",
       "<table border=\"1\" class=\"dataframe\">\n",
       "  <thead>\n",
       "    <tr style=\"text-align: right;\">\n",
       "      <th></th>\n",
       "      <th>term</th>\n",
       "      <th>sub_grade</th>\n",
       "      <th>home_ownership</th>\n",
       "      <th>annual_inc</th>\n",
       "      <th>verification_status</th>\n",
       "      <th>dti</th>\n",
       "      <th>revol_util</th>\n",
       "      <th>mort_acc</th>\n",
       "      <th>credit_hist</th>\n",
       "      <th>credit_line_ratio</th>\n",
       "      <th>balance_annual_inc</th>\n",
       "      <th>fico_avg_score</th>\n",
       "      <th>inst_amnt_ratio</th>\n",
       "    </tr>\n",
       "  </thead>\n",
       "  <tbody>\n",
       "    <tr>\n",
       "      <th>1</th>\n",
       "      <td>1</td>\n",
       "      <td>34.0</td>\n",
       "      <td>3</td>\n",
       "      <td>10.819778</td>\n",
       "      <td>1</td>\n",
       "      <td>2</td>\n",
       "      <td>60</td>\n",
       "      <td>5</td>\n",
       "      <td>20</td>\n",
       "      <td>5.0</td>\n",
       "      <td>0.02</td>\n",
       "      <td>800</td>\n",
       "      <td>0.027778</td>\n",
       "    </tr>\n",
       "  </tbody>\n",
       "</table>\n",
       "</div>"
      ],
      "text/plain": [
       "   term  sub_grade  home_ownership  annual_inc  verification_status  dti  \\\n",
       "1     1       34.0               3   10.819778                    1    2   \n",
       "\n",
       "   revol_util  mort_acc  credit_hist  credit_line_ratio  balance_annual_inc  \\\n",
       "1          60         5           20                5.0                0.02   \n",
       "\n",
       "   fico_avg_score  inst_amnt_ratio  \n",
       "1             800         0.027778  "
      ]
     },
     "execution_count": 27,
     "metadata": {},
     "output_type": "execute_result"
    }
   ],
   "source": [
    "temp"
   ]
  },
  {
   "cell_type": "code",
   "execution_count": 28,
   "metadata": {},
   "outputs": [],
   "source": [
    "df_macro_mean  = pd.read_csv('data/df_macro_mean.csv', index_col=0)\n",
    "df_macro_std = pd.read_csv('data/df_macro_std.csv', index_col=0)    "
   ]
  },
  {
   "cell_type": "code",
   "execution_count": 29,
   "metadata": {},
   "outputs": [],
   "source": [
    "drop_columns=['emp_length','purpose','revol_bal','grade','int_rate']\n",
    "\n",
    "df_macro_mean=df_macro_mean.drop(columns=drop_columns)\n",
    "df_macro_std =df_macro_std.drop(columns=drop_columns)"
   ]
  },
  {
   "cell_type": "code",
   "execution_count": 30,
   "metadata": {},
   "outputs": [
    {
     "data": {
      "text/html": [
       "<div>\n",
       "<style scoped>\n",
       "    .dataframe tbody tr th:only-of-type {\n",
       "        vertical-align: middle;\n",
       "    }\n",
       "\n",
       "    .dataframe tbody tr th {\n",
       "        vertical-align: top;\n",
       "    }\n",
       "\n",
       "    .dataframe thead th {\n",
       "        text-align: right;\n",
       "    }\n",
       "</style>\n",
       "<table border=\"1\" class=\"dataframe\">\n",
       "  <thead>\n",
       "    <tr style=\"text-align: right;\">\n",
       "      <th></th>\n",
       "      <th>term</th>\n",
       "      <th>sub_grade</th>\n",
       "      <th>home_ownership</th>\n",
       "      <th>annual_inc</th>\n",
       "      <th>verification_status</th>\n",
       "      <th>dti</th>\n",
       "      <th>revol_util</th>\n",
       "      <th>mort_acc</th>\n",
       "      <th>credit_hist</th>\n",
       "      <th>credit_line_ratio</th>\n",
       "      <th>balance_annual_inc</th>\n",
       "      <th>fico_avg_score</th>\n",
       "      <th>inst_amnt_ratio</th>\n",
       "    </tr>\n",
       "  </thead>\n",
       "  <tbody>\n",
       "    <tr>\n",
       "      <th>1</th>\n",
       "      <td>-0.653633</td>\n",
       "      <td>1.682293</td>\n",
       "      <td>-1.22267</td>\n",
       "      <td>-0.559224</td>\n",
       "      <td>-0.136527</td>\n",
       "      <td>-2.028323</td>\n",
       "      <td>0.179252</td>\n",
       "      <td>1.329428</td>\n",
       "      <td>-2.352922</td>\n",
       "      <td>26.964008</td>\n",
       "      <td>-1.79369</td>\n",
       "      <td>3.400047</td>\n",
       "      <td>-0.670827</td>\n",
       "    </tr>\n",
       "  </tbody>\n",
       "</table>\n",
       "</div>"
      ],
      "text/plain": [
       "       term  sub_grade  home_ownership  annual_inc  verification_status  \\\n",
       "1 -0.653633   1.682293        -1.22267   -0.559224            -0.136527   \n",
       "\n",
       "        dti  revol_util  mort_acc  credit_hist  credit_line_ratio  \\\n",
       "1 -2.028323    0.179252  1.329428    -2.352922          26.964008   \n",
       "\n",
       "   balance_annual_inc  fico_avg_score  inst_amnt_ratio  \n",
       "1            -1.79369        3.400047        -0.670827  "
      ]
     },
     "execution_count": 30,
     "metadata": {},
     "output_type": "execute_result"
    }
   ],
   "source": [
    "scale = temp.copy()\n",
    "code=23\n",
    "for feat in df_macro_mean.columns:\n",
    "    scale[feat] = (scale[feat] - df_macro_mean.loc[code,feat]) / df_macro_std.loc[code,feat]\n",
    "scale.head()"
   ]
  },
  {
   "cell_type": "code",
   "execution_count": 31,
   "metadata": {},
   "outputs": [
    {
     "data": {
      "text/plain": [
       "0"
      ]
     },
     "execution_count": 31,
     "metadata": {},
     "output_type": "execute_result"
    }
   ],
   "source": [
    "clf.predict(scale)[0]"
   ]
  }
 ],
 "metadata": {
  "kernelspec": {
   "display_name": "Python 3",
   "language": "python",
   "name": "python3"
  },
  "language_info": {
   "codemirror_mode": {
    "name": "ipython",
    "version": 3
   },
   "file_extension": ".py",
   "mimetype": "text/x-python",
   "name": "python",
   "nbconvert_exporter": "python",
   "pygments_lexer": "ipython3",
   "version": "3.8.3"
  }
 },
 "nbformat": 4,
 "nbformat_minor": 4
}
