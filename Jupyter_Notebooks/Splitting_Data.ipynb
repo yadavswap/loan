{
 "cells": [
  {
   "cell_type": "code",
   "execution_count": 1,
   "metadata": {},
   "outputs": [],
   "source": [
    "import numpy as np\n",
    "import pandas as pd\n",
    "import seaborn as sns \n",
    "import matplotlib as mpl\n",
    "import matplotlib.pyplot as plt\n",
    "from sklearn import preprocessing\n",
    "from sklearn.feature_selection import VarianceThreshold\n",
    "from sklearn.preprocessing import StandardScaler\n",
    "from scipy import stats\n",
    "import plotly.express as px\n",
    "import math \n",
    "from sklearn.preprocessing import LabelEncoder\n",
    "import shap"
   ]
  },
  {
   "cell_type": "code",
   "execution_count": 3,
   "metadata": {},
   "outputs": [],
   "source": [
    "pd.options.mode.chained_assignment = None  # default='warn'\n",
    "pd.options.display.max_rows = 200\n",
    "pd.options.display.max_columns = 150"
   ]
  },
  {
   "cell_type": "code",
   "execution_count": 4,
   "metadata": {},
   "outputs": [],
   "source": [
    "#Reading the Dataset\n",
    "new_data=pd.read_csv('accepted_2007_to_2018Q4.csv',low_memory=False)"
   ]
  },
  {
   "cell_type": "code",
   "execution_count": 5,
   "metadata": {},
   "outputs": [
    {
     "data": {
      "text/plain": [
       "(2195670, 151)"
      ]
     },
     "execution_count": 5,
     "metadata": {},
     "output_type": "execute_result"
    }
   ],
   "source": [
    "new_data.shape"
   ]
  },
  {
   "cell_type": "code",
   "execution_count": 6,
   "metadata": {},
   "outputs": [
    {
     "data": {
      "text/plain": [
       "Fully Paid                                             1048714\n",
       "Current                                                 851419\n",
       "Charged Off                                             259849\n",
       "Late (31-120 days)                                       20652\n",
       "In Grace Period                                           8055\n",
       "Late (16-30 days)                                         4164\n",
       "Does not meet the credit policy. Status:Fully Paid        1988\n",
       "Does not meet the credit policy. Status:Charged Off        761\n",
       "Default                                                     37\n",
       "Name: loan_status, dtype: int64"
      ]
     },
     "execution_count": 6,
     "metadata": {},
     "output_type": "execute_result"
    }
   ],
   "source": [
    "#Response/Target Variable \n",
    "\n",
    "new_data.loan_status.value_counts()"
   ]
  },
  {
   "cell_type": "code",
   "execution_count": null,
   "metadata": {},
   "outputs": [],
   "source": [
    "#Considering only Fully Paid, Default, Charged Off Loans.\n",
    "resp=['Current']\n",
    "Loan_Main = new_data[~new_data['loan_status'].isin(resp)] \n",
    "Loan_Main[\"loan_status\"] = np.where(Loan_Main[\"loan_status\"].str.contains(\"Fully\"), 0, 1)\n",
    "\n",
    "#New Dataset shape\n",
    "Loan_Main.shape\n",
    "\n",
    "# Changing employee length to numerical.\n",
    "Loan_Main['emp_length'].fillna(\"< 1 year\",inplace= True)\n",
    "dict_emp_length = {'10+ years':10, '6 years':6, '4 years':4, '< 1 year':0.5, '2 years':2,'9 years':9, '5 years':5, '3 years':3, '7 years':7, '1 year':1,'8 years':8}\n",
    "Loan_Main['emp_length'].replace(dict_emp_length, inplace=True)\n",
    "\n",
    "#Seperating Loan_Main dataset into two based on Application_Type (Individual / Joint Type)\n",
    "grouped = Loan_Main.groupby(Loan_Main.application_type)\n",
    "Individual_Loan=grouped.get_group(\"Individual\")\n",
    "Joint_Loan=grouped.get_group(\"Joint App\")"
   ]
  },
  {
   "cell_type": "code",
   "execution_count": null,
   "metadata": {},
   "outputs": [],
   "source": [
    "Individual_Loan.shape, Joint_Loan.shape"
   ]
  },
  {
   "cell_type": "code",
   "execution_count": null,
   "metadata": {},
   "outputs": [],
   "source": [
    "# Changing purpose into numerical using labelencoder\n",
    "col=['purpose']\n",
    "enc= LabelEncoder()\n",
    "Individual_Loan.loc[:,col]= Individual_Loan.loc[:,col].apply(enc.fit_transform)"
   ]
  },
  {
   "cell_type": "code",
   "execution_count": null,
   "metadata": {},
   "outputs": [],
   "source": [
    "#Loan Issued over the years \n",
    "\n",
    "Individual_Loan['issue_d'] = pd.to_datetime(Individual_Loan['issue_d'])\n",
    "\n",
    "Individual_Loan['issue_d'].dt.year.value_counts().sort_index().plot.bar()\n",
    "plt.title('Loans Issued Per Year')\n",
    "plt.xlabel('Financial Year')\n",
    "plt.ylabel('Count')\n",
    "plt.tight_layout()\n",
    "\n",
    "plt.show()"
   ]
  },
  {
   "cell_type": "code",
   "execution_count": null,
   "metadata": {},
   "outputs": [],
   "source": [
    "#set fraction\n",
    "frac = 0.85\n",
    "#get fractions and make deep copy\n",
    "df_train = Individual_Loan.loc[Individual_Loan['issue_d']  < Individual_Loan['issue_d'].quantile(frac)]\n",
    "df_test =  Individual_Loan.loc[Individual_Loan['issue_d'] >= Individual_Loan['issue_d'].quantile(frac)]"
   ]
  },
  {
   "cell_type": "code",
   "execution_count": 12,
   "metadata": {},
   "outputs": [],
   "source": [
    "#save as compressed zipped files to save space\n",
    "df_test.to_csv('data/df_test.csv.zip')\n",
    "df_train.to_csv('data/df_train.csv.zip')"
   ]
  },
  {
   "cell_type": "code",
   "execution_count": 13,
   "metadata": {},
   "outputs": [
    {
     "data": {
      "text/plain": [
       "((1106465, 151), (209622, 151))"
      ]
     },
     "execution_count": 13,
     "metadata": {},
     "output_type": "execute_result"
    }
   ],
   "source": [
    "df_train.shape,df_test.shape"
   ]
  }
 ],
 "metadata": {
  "kernelspec": {
   "display_name": "Python 3",
   "language": "python",
   "name": "python3"
  },
  "language_info": {
   "codemirror_mode": {
    "name": "ipython",
    "version": 3
   },
   "file_extension": ".py",
   "mimetype": "text/x-python",
   "name": "python",
   "nbconvert_exporter": "python",
   "pygments_lexer": "ipython3",
   "version": "3.8.3"
  }
 },
 "nbformat": 4,
 "nbformat_minor": 4
}
